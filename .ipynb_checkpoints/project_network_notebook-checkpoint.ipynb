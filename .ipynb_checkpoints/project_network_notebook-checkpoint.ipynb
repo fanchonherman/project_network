{
 "cells": [
  {
   "cell_type": "code",
   "execution_count": 2,
   "metadata": {},
   "outputs": [],
   "source": [
    "import networkx as nx\n",
    "import numpy as np\n",
    "import osmnx as ox\n",
    "import pandas as pd\n",
    "from ipywidgets import interact, interactive, fixed, interact_manual\n",
    "import ipywidgets as widgets\n",
    "\n",
    "%matplotlib notebook\n",
    "ox.config(log_console=True, use_cache=True)"
   ]
  },
  {
   "cell_type": "code",
   "execution_count": null,
   "metadata": {},
   "outputs": [],
   "source": [
    "print(\"The version of osmnx is :\", ox.__version__)\n",
    "print(\"The version of numpy is :\", np.__version__)\n",
    "print(\"The version of networkx is :\", nx.__version__)\n",
    "print(\"The version of pandas is :\", pd.__version__)"
   ]
  },
  {
   "cell_type": "code",
   "execution_count": 3,
   "metadata": {},
   "outputs": [],
   "source": [
    "def type_transport(transport):\n",
    "    G = ox.graph_from_place(\n",
    "        'Montpellier, Hérault, France', network_type=transport)\n",
    "    origin_point = ox.geo_utils.geocode('Maison du Lez, Montpellier, France')\n",
    "    destination_point = ox.geo_utils.geocode(\n",
    "        'Place Eugène Bataillon, Montpellier, France')\n",
    "    origin_node = ox.get_nearest_node(G, origin_point)\n",
    "    destination_node = ox.get_nearest_node(G, destination_point)\n",
    "    route = nx.shortest_path(G, origin_node, destination_node)\n",
    "    return(ox.plot_route_folium(G, route, route_width=2, route_color='hotpink'))"
   ]
  },
  {
   "cell_type": "code",
   "execution_count": 4,
   "metadata": {},
   "outputs": [
    {
     "data": {
      "application/vnd.jupyter.widget-view+json": {
       "model_id": "25b076c33bf04d0487f5ab590e81dd61",
       "version_major": 2,
       "version_minor": 0
      },
      "text/plain": [
       "interactive(children=(Dropdown(description='transport', options=(('car', 'drive'), ('bike', 'bike'), ('piedest…"
      ]
     },
     "metadata": {},
     "output_type": "display_data"
    },
    {
     "data": {
      "text/plain": [
       "<function __main__.type_transport(transport)>"
      ]
     },
     "execution_count": 4,
     "metadata": {},
     "output_type": "execute_result"
    }
   ],
   "source": [
    "menu = [('car', 'drive'), ('bike', 'bike'), ('piedestrian', 'walk')]\n",
    "interact(type_transport, transport=menu)"
   ]
  },
  {
   "cell_type": "code",
   "execution_count": null,
   "metadata": {},
   "outputs": [],
   "source": [
    "type_transport('walk')"
   ]
  },
  {
   "cell_type": "code",
   "execution_count": null,
   "metadata": {},
   "outputs": [],
   "source": [
    "type_transport('drive')"
   ]
  },
  {
   "cell_type": "code",
   "execution_count": null,
   "metadata": {
    "scrolled": true
   },
   "outputs": [],
   "source": [
    "type_transport('bike')"
   ]
  },
  {
   "cell_type": "code",
   "execution_count": null,
   "metadata": {},
   "outputs": [],
   "source": [
    "# the biking network for Montpellier, create network around point\n",
    "G_bike = ox.graph_from_place(\n",
    "    'Montpellier, Hérault, France', network_type='bike')\n",
    "# fig, ax = ox.plot_graph(G_bike) to see the map of Montpellier\n",
    "\n",
    "# create network around point, define origin/destination nodes\n",
    "origin_point = ox.geo_utils.geocode(\n",
    "    'Place Eugène Bataillon, Montpellier, France')\n",
    "destination_point = ox.geo_utils.geocode('Maison du Lez, Montpellier, France')\n",
    "# or define a lat-long point\n",
    "# origin_point = (43.610395, 3.896729) # la maison du lez\n",
    "# destination_point = (43.632315, 3.860388) # place eugène bataillon\n",
    "\n",
    "# define origin/desination points then get the nodes nearest to each\n",
    "origin_node = ox.get_nearest_node(G_bike, origin_point)\n",
    "destination_node = ox.get_nearest_node(G_bike, destination_point)\n",
    "\n",
    "# find the shortest path between origin and destination nodes\n",
    "route = nx.shortest_path(G_bike, origin_node, destination_node)"
   ]
  },
  {
   "cell_type": "code",
   "execution_count": null,
   "metadata": {},
   "outputs": [],
   "source": [
    "# plot the route showing origin/destination lat-long points in blue\n",
    "ox.plot_graph_route(G_bike, route, origin_point=origin_point, destination_point=destination_point)"
   ]
  },
  {
   "cell_type": "code",
   "execution_count": null,
   "metadata": {},
   "outputs": [],
   "source": [
    "ox.plot_route_folium(G_bike, route, route_width=2, route_color='hotpink')"
   ]
  },
  {
   "cell_type": "code",
   "execution_count": null,
   "metadata": {},
   "outputs": [],
   "source": [
    "#G1 = ox.graph_from_place('Montpellier, Hérault, France', network_type='drive')\n",
    "#G2 = ox.graph_from_place('Montpellier, Hérault, France', network_type='bike')\n",
    "#G3 = ox.graph_from_place('Montpellier, Hérault, France', network_type='walk')\n",
    "#\n",
    "#orig  = ox.geo_utils.geocode('Maison du Lez, Montpellier, France')\n",
    "#dest =  ox.geo_utils.geocode('Place Eugène Bataillon, Montpellier, France')\n",
    "#\n",
    "## calculate shortest paths for the 3 routes\n",
    "#route1 = nx.shortest_path(G1, orig, dest)\n",
    "#route2 = nx.shortest_path(G2, orig, dest)\n",
    "#route3 = nx.shortest_path(G3, orig, dest)\n",
    "#\n",
    "## create route colors\n",
    "#rc1 = ['r'] * (len(route1) - 1)\n",
    "#rc2 = ['b'] * len(route2)\n",
    "#rc3 = ['green'] * len(route3)\n",
    "#\n",
    "#rc = rc1 + rc2 + rc3\n",
    "#nc = ['r', 'r', 'b', 'b', 'green', 'green']\n",
    "#\n",
    "#fig, ax = ox.plot_graph_routes(G1, [route1, route2, route3], route_color=rc, orig_dest_node_color=nc, node_size=0)\n"
   ]
  }
 ],
 "metadata": {
  "kernelspec": {
   "display_name": "Python 3",
   "language": "python",
   "name": "python3"
  },
  "language_info": {
   "codemirror_mode": {
    "name": "ipython",
    "version": 3
   },
   "file_extension": ".py",
   "mimetype": "text/x-python",
   "name": "python",
   "nbconvert_exporter": "python",
   "pygments_lexer": "ipython3",
   "version": "3.7.7"
  }
 },
 "nbformat": 4,
 "nbformat_minor": 2
}
