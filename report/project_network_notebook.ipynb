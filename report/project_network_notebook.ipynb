{
 "cells": [
  {
   "cell_type": "markdown",
   "metadata": {},
   "source": [
    "# Loading packages"
   ]
  },
  {
   "cell_type": "code",
   "execution_count": 1,
   "metadata": {},
   "outputs": [],
   "source": [
    "import networkx as nx\n",
    "import osmnx as ox\n",
    "from ipywidgets import interact, interactive, fixed, interact_manual\n",
    "import matplotlib.animation as animation\n",
    "import matplotlib.pyplot as plt\n",
    "import network_func\n",
    "from matplotlib.collections import LineCollection\n",
    "\n",
    "%matplotlib notebook\n",
    "ox.config(log_console=True, use_cache=True)"
   ]
  },
  {
   "cell_type": "markdown",
   "metadata": {},
   "source": [
    "# Package versions"
   ]
  },
  {
   "cell_type": "code",
   "execution_count": 6,
   "metadata": {},
   "outputs": [
    {
     "name": "stdout",
     "output_type": "stream",
     "text": [
      "The version of osmnx is : 0.11.4\n",
      "The version of networkx is : 2.4\n"
     ]
    }
   ],
   "source": [
    "print(\"The version of osmnx is :\", ox.__version__)\n",
    "print(\"The version of networkx is :\", nx.__version__)"
   ]
  },
  {
   "cell_type": "markdown",
   "metadata": {},
   "source": [
    "# Function to display the graph according to the type of transport"
   ]
  },
  {
   "cell_type": "code",
   "execution_count": null,
   "metadata": {},
   "outputs": [],
   "source": [
    "def type_transport(transport):\n",
    "    G = ox.graph_from_place(\n",
    "        'Montpellier, Hérault, France', network_type=transport)\n",
    "    origin_point = ox.geo_utils.geocode('Maison du Lez, Montpellier, France')\n",
    "    destination_point = ox.geo_utils.geocode(\n",
    "        'Place Eugène Bataillon, Montpellier, France')\n",
    "    origin_node = ox.get_nearest_node(G, origin_point)\n",
    "    destination_node = ox.get_nearest_node(G, destination_point)\n",
    "    route = nx.shortest_path(G, origin_node, destination_node)\n",
    "    fig, ax = ox.plot_graph_route(G, route, origin_point=origin_point, destination_point=destination_point)\n",
    "    plt.show\n",
    "    return()\n",
    "\n",
    "# network_func.type_transport()"
   ]
  },
  {
   "cell_type": "code",
   "execution_count": null,
   "metadata": {},
   "outputs": [],
   "source": [
    "type_transport('walk')"
   ]
  },
  {
   "cell_type": "markdown",
   "metadata": {},
   "source": [
    "# Explanation of each python command"
   ]
  },
  {
   "cell_type": "code",
   "execution_count": null,
   "metadata": {},
   "outputs": [],
   "source": [
    "# the walking network for Montpellier, create network around point\n",
    "G = ox.graph_from_place(\n",
    "    'Montpellier, Hérault, France', network_type='walk')\n",
    "\n",
    "# create network around point, define origin and destination nodes\n",
    "origin_point = ox.geo_utils.geocode(\n",
    "    'Maison du Lez, Montpellier, France')\n",
    "destination_point = ox.geo_utils.geocode(\n",
    "    'Place Eugène Bataillon, Montpellier, France')  # or define a lat-long point\n",
    "\n",
    "# define origin/desination points then get the ID of the nodes nearest to each\n",
    "origin_node = ox.get_nearest_node(G, origin_point)\n",
    "destination_node = ox.get_nearest_node(G, destination_point)\n",
    "\n",
    "# find the shortest path between origin and destination nodes\n",
    "route = nx.shortest_path(G, origin_node, destination_node)\n",
    "\n",
    "# plot the route showing origin/destination lat-long points in blue\n",
    "ox.plot_graph_route(G, route, origin_point=origin_point,\n",
    "                    destination_point=destination_point)"
   ]
  },
  {
   "cell_type": "markdown",
   "metadata": {},
   "source": [
    "# Widget by type of transport"
   ]
  },
  {
   "cell_type": "code",
   "execution_count": null,
   "metadata": {},
   "outputs": [],
   "source": [
    "# widget of the type of transport\n",
    "menu = [('car', 'drive'), ('bike', 'bike'), ('piedestrian', 'walk')]\n",
    "interact(type_transport, transport=menu)"
   ]
  },
  {
   "cell_type": "markdown",
   "metadata": {},
   "source": [
    "# Function to visualize the animation according to the type of transport"
   ]
  },
  {
   "cell_type": "code",
   "execution_count": null,
   "metadata": {},
   "outputs": [],
   "source": [
    "def animation_type_transport(transport):\n",
    "    G = ox.graph_from_place(\n",
    "        'Montpellier, Hérault, France', network_type=transport)\n",
    "    origin_point = ox.geo_utils.geocode('Maison du Lez, Montpellier, France')\n",
    "    origin_node = ox.get_nearest_node(G, origin_point)\n",
    "    destination_point = ox.geo_utils.geocode(\n",
    "        'Place Eugène Bataillon, Montpellier, France')\n",
    "    destination_node = ox.get_nearest_node(G, destination_point)\n",
    "    route = nx.shortest_path(G, origin_node, destination_node)\n",
    "\n",
    "    fig, ax = ox.plot_graph_route(G, [origin_node])\n",
    "    pic = ax.scatter(G.nodes[route[0]]['x'], G.nodes[route[0]]['y'], s=50, marker='*',\n",
    "                     c='b', alpha=1, zorder=6)\n",
    "    lc = LineCollection([], colors='r', linewidths=4, alpha=0.2, zorder=3)\n",
    "    ax.add_collection(lc)\n",
    "\n",
    "    def animate(i):\n",
    "        pic.set_offsets([G.nodes[route[i+1]]['x'], G.nodes[route[i+1]]['y']])\n",
    "        lines = ox.node_list_to_coordinate_lines(G, route[:i+1], True)\n",
    "        lc.set_segments(lines)\n",
    "        return pic, lc\n",
    "\n",
    "    ani = animation.FuncAnimation(\n",
    "        fig, animate, frames=200, interval=100, blit=True, repeat=False)\n",
    "    plt.show()\n",
    "    return(ani)"
   ]
  },
  {
   "cell_type": "code",
   "execution_count": null,
   "metadata": {},
   "outputs": [],
   "source": [
    "animation_type_transport('bike')"
   ]
  },
  {
   "cell_type": "markdown",
   "metadata": {},
   "source": [
    "# Time and memory study"
   ]
  },
  {
   "cell_type": "code",
   "execution_count": null,
   "metadata": {},
   "outputs": [],
   "source": [
    "import time\n",
    "import numpy as np\n",
    "\n",
    "\n",
    "start = time.time()\n",
    "graphe = type_transport('walk')\n",
    "end = time.time()\n",
    "\n",
    "print(\"Temps passé pour exécuter la commande: {0:.5f} s.\".format(end - start))"
   ]
  },
  {
   "cell_type": "code",
   "execution_count": 27,
   "metadata": {},
   "outputs": [
    {
     "ename": "ModuleNotFoundError",
     "evalue": "No module named 'leaflet'",
     "output_type": "error",
     "traceback": [
      "\u001b[1;31m---------------------------------------------------------------------------\u001b[0m",
      "\u001b[1;31mModuleNotFoundError\u001b[0m                       Traceback (most recent call last)",
      "\u001b[1;32m<ipython-input-27-7651eed35a5f>\u001b[0m in \u001b[0;36m<module>\u001b[1;34m\u001b[0m\n\u001b[1;32m----> 1\u001b[1;33m \u001b[1;32mimport\u001b[0m \u001b[0mleaflet\u001b[0m \u001b[1;32mas\u001b[0m \u001b[0mL\u001b[0m\u001b[1;33m\u001b[0m\u001b[1;33m\u001b[0m\u001b[0m\n\u001b[0m\u001b[0;32m      2\u001b[0m bikeIcon = L.icon({\n\u001b[0;32m      3\u001b[0m     \u001b[0miconUrl\u001b[0m\u001b[1;33m:\u001b[0m \u001b[1;34m'marker_bike.png'\u001b[0m\u001b[1;33m,\u001b[0m\u001b[1;33m\u001b[0m\u001b[1;33m\u001b[0m\u001b[0m\n\u001b[0;32m      4\u001b[0m     \u001b[0miconSize\u001b[0m\u001b[1;33m:\u001b[0m     \u001b[1;33m[\u001b[0m\u001b[1;36m38\u001b[0m\u001b[1;33m,\u001b[0m \u001b[1;36m95\u001b[0m\u001b[1;33m]\u001b[0m\u001b[1;33m,\u001b[0m \u001b[1;31m# size of the icon\u001b[0m\u001b[1;33m\u001b[0m\u001b[1;33m\u001b[0m\u001b[0m\n\u001b[0;32m      5\u001b[0m     \u001b[0miconAnchor\u001b[0m\u001b[1;33m:\u001b[0m   \u001b[1;33m[\u001b[0m\u001b[1;36m22\u001b[0m\u001b[1;33m,\u001b[0m \u001b[1;36m94\u001b[0m\u001b[1;33m]\u001b[0m\u001b[1;33m,\u001b[0m \u001b[1;31m# point of the icon which will correspond to marker's location\u001b[0m\u001b[1;33m\u001b[0m\u001b[1;33m\u001b[0m\u001b[0m\n",
      "\u001b[1;31mModuleNotFoundError\u001b[0m: No module named 'leaflet'"
     ]
    }
   ],
   "source": [
    "import leaflet as L\n",
    "bikeIcon = L.icon({\n",
    "    iconUrl: 'marker_bike.png',\n",
    "    iconSize:     [38, 95], # size of the icon\n",
    "    iconAnchor:   [22, 94], # point of the icon which will correspond to marker's location\n",
    "    popupAnchor:  [-3, -76] # point from which the popup should open relative to the iconAnchor\n",
    "});"
   ]
  },
  {
   "cell_type": "code",
   "execution_count": 28,
   "metadata": {},
   "outputs": [
    {
     "ename": "NameError",
     "evalue": "name 'Icon' is not defined",
     "output_type": "error",
     "traceback": [
      "\u001b[1;31m---------------------------------------------------------------------------\u001b[0m",
      "\u001b[1;31mNameError\u001b[0m                                 Traceback (most recent call last)",
      "\u001b[1;32m<ipython-input-28-4b1b7186fca0>\u001b[0m in \u001b[0;36m<module>\u001b[1;34m\u001b[0m\n\u001b[1;32m----> 1\u001b[1;33m \u001b[1;32mclass\u001b[0m \u001b[0mCustomIcon\u001b[0m\u001b[1;33m(\u001b[0m\u001b[0mIcon\u001b[0m\u001b[1;33m)\u001b[0m\u001b[1;33m:\u001b[0m\u001b[1;33m\u001b[0m\u001b[1;33m\u001b[0m\u001b[0m\n\u001b[0m\u001b[0;32m      2\u001b[0m     \"\"\"\n\u001b[0;32m      3\u001b[0m     \u001b[0mCreate\u001b[0m \u001b[0ma\u001b[0m \u001b[0mcustom\u001b[0m \u001b[0micon\u001b[0m\u001b[1;33m,\u001b[0m \u001b[0mbased\u001b[0m \u001b[0mon\u001b[0m \u001b[0man\u001b[0m \u001b[0mimage\u001b[0m\u001b[1;33m.\u001b[0m\u001b[1;33m\u001b[0m\u001b[1;33m\u001b[0m\u001b[0m\n\u001b[0;32m      4\u001b[0m     \u001b[0mParameters\u001b[0m\u001b[1;33m\u001b[0m\u001b[1;33m\u001b[0m\u001b[0m\n\u001b[0;32m      5\u001b[0m     \u001b[1;33m-\u001b[0m\u001b[1;33m-\u001b[0m\u001b[1;33m-\u001b[0m\u001b[1;33m-\u001b[0m\u001b[1;33m-\u001b[0m\u001b[1;33m-\u001b[0m\u001b[1;33m-\u001b[0m\u001b[1;33m-\u001b[0m\u001b[1;33m-\u001b[0m\u001b[1;33m-\u001b[0m\u001b[1;33m\u001b[0m\u001b[1;33m\u001b[0m\u001b[0m\n",
      "\u001b[1;31mNameError\u001b[0m: name 'Icon' is not defined"
     ]
    }
   ],
   "source": [
    "class CustomIcon(Icon):\n",
    "    \"\"\"\n",
    "    Create a custom icon, based on an image.\n",
    "    Parameters\n",
    "    ----------\n",
    "    icon_image :  string, file or array-like object\n",
    "        The data you want to use as an icon.\n",
    "        * If string, it will be written directly in the output file.\n",
    "        * If file, it's content will be converted as embedded in the\n",
    "        output file.\n",
    "        * If array-like, it will be converted to PNG base64 string\n",
    "        and embedded in the output.\n",
    "    icon_size : tuple of 2 int, optional\n",
    "        Size of the icon image in pixels.\n",
    "    icon_anchor : tuple of 2 int, optional\n",
    "        The coordinates of the \"tip\" of the icon\n",
    "        (relative to its top left corner).\n",
    "        The icon will be aligned so that this point is at the\n",
    "        marker's geographical location.\n",
    "    shadow_image :  string, file or array-like object, optional\n",
    "        The data for the shadow image. If not specified,\n",
    "        no shadow image will be created.\n",
    "    shadow_size : tuple of 2 int, optional\n",
    "        Size of the shadow image in pixels.\n",
    "    shadow_anchor : tuple of 2 int, optional\n",
    "        The coordinates of the \"tip\" of the shadow relative to its\n",
    "        top left corner (the same as icon_anchor if not specified).\n",
    "    popup_anchor : tuple of 2 int, optional\n",
    "        The coordinates of the point from which popups will \"open\",\n",
    "        relative to the icon anchor.\n",
    "    \"\"\"\n",
    "    _template = Template(u\"\"\"\n",
    "        {% macro script(this, kwargs) %}\n",
    "        var {{ this.get_name() }} = L.icon({{ this.options|tojson }});\n",
    "        {{ this._parent.get_name() }}.setIcon({{ this.get_name() }});\n",
    "        {% endmacro %}\n",
    "        \"\"\")  # noqa\n",
    "\n",
    "    def __init__(self, icon_image, icon_size=None, icon_anchor=None,\n",
    "                 shadow_image=None, shadow_size=None, shadow_anchor=None,\n",
    "                 popup_anchor=None):\n",
    "        super(Icon, self).__init__()\n",
    "        self._name = 'CustomIcon'\n",
    "        self.options = parse_options(\n",
    "            icon_url=image_to_url(icon_image),\n",
    "            icon_size=icon_size,\n",
    "            icon_anchor=icon_anchor,\n",
    "            shadow_url=shadow_image and image_to_url(shadow_image),\n",
    "            shadow_size=shadow_size,\n",
    "            shadow_anchor=shadow_anchor,\n",
    "            popup_anchor=popup_anchor,\n",
    "        )\n",
    "\n"
   ]
  },
  {
   "cell_type": "code",
   "execution_count": null,
   "metadata": {},
   "outputs": [],
   "source": [
    "import folium\n",
    "\n"
   ]
  }
 ],
 "metadata": {
  "kernelspec": {
   "display_name": "Python 3",
   "language": "python",
   "name": "python3"
  },
  "language_info": {
   "codemirror_mode": {
    "name": "ipython",
    "version": 3
   },
   "file_extension": ".py",
   "mimetype": "text/x-python",
   "name": "python",
   "nbconvert_exporter": "python",
   "pygments_lexer": "ipython3",
   "version": "3.7.4"
  }
 },
 "nbformat": 4,
 "nbformat_minor": 2
}
